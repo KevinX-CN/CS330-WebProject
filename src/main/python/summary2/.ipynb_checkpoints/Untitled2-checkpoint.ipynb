{
 "cells": [
  {
   "cell_type": "code",
   "execution_count": 7,
   "id": "991e43ce",
   "metadata": {},
   "outputs": [
    {
     "name": "stdout",
     "output_type": "stream",
     "text": [
      "摘要：\n",
      "Afully interconnected and intelligent living environment has been a grand challenge forfuture smart society and it is critically essential to develop the interactive sensing andactuating Systems to bridge the human-machine interfaces. In this talk, Dr Junwen Zhongwill introduce various Sensors, actuators, and robots that are fabricated based onpiezoelectret and piezoelectric effects. Specifically the electrical properties of the materialsand the mechanical structures of the devices are designed and optimized, in order toimprove the output and durability of such flexible transducers. These flexible transducershave been Successfully demonstrated with potential applications in personal mobile-health，haptics feedback, and soft robotics, etc. These works not only offer new valuable insights，but also will open Up new perspectives to develop flexible electronics and human-machineinteractivity with high properties..Afully interconnected and intelligent living environment has been a grand challenge forfuture smart society and it is critically essential to develop the interactive sensing andactuating Systems to bridge the human-machine interfaces. In this talk, Dr Junwen Zhongwill introduce various Sensors, actuators, and robots that are fabricated based onpiezoelectret and piezoelectric effects. Specifically the electrical properties of the materialsand the mechanical structures of the devices are designed and optimized, in order toimprove the output and durability of such flexible transducers. These flexible transducershave been Successfully demonstrated with potential applications in personal mobile-health，haptics feedback, and soft robotics, etc. These works not only offer new valuable insights，but also will open Up new perspectives to develop flexible electronics and human-machineinteractivity with high properties.Afully interconnected and intelligent living environment has been a grand challenge forfuture smart society and it is critically essential to develop the interactive sensing andactuating Systems to bridge the human-machine interfaces. In this talk, Dr Junwen Zhongwill introduce various Sensors, actuators, and robots that are fabricated based onpiezoelectret and piezoelectric effects. Specifically the electrical properties of the materialsand the mechanical structures of the devices are designed and optimized, in order toimprove the output and durability of such flexible transducers. These flexible transducershave been Successfully demonstrated with potential applications in personal mobile-health，haptics feedback, and soft robotics, etc. These works not only offer new valuable insights，but also will open Up new perspectives to develop flexible electronics and human-machineinteractivity with high properties.Afully interconnected and intelligent living environment has been a grand challenge forfuture smart society and it is critically essential to develop the interactive sensing andactuating Systems to bridge the human-machine interfaces. In this talk, Dr Junwen Zhongwill introduce various Sensors, actuators, and robots that are fabricated based onpiezoelectret and piezoelectric effects. Specifically the electrical properties of the materialsand the mechanical structures of the devices are designed and optimized, in order toimprove the output and durability of such flexible transducers. These flexible transducershave been Successfully demonstrated with potential applications in personal mobile-health，haptics feedback, and soft robotics, etc. These works not only offer new valuable insights，but also will open Up new perspectives to develop flexible electronics and human-machineinteractivity with high properties.Afully interconnected and intelligent living environment has been a grand challenge forfuture smart society and it is critically essential to develop the interactive sensing andactuating Systems to bridge the human-machine interfaces. In this talk, Dr Junwen Zhongwill introduce various Sensors, actuators, and robots that are fabricated based onpiezoelectret and piezoelectric effects. Specifically the electrical properties of the materialsand the mechanical structures of the devices are designed and optimized, in order toimprove the output and durability of such flexible transducers. These flexible transducershave been Successfully demonstrated with potential applications in personal mobile-health，haptics feedback, and soft robotics, etc. These works not only offer new valuable insights，but also will open Up new perspectives to develop flexible electronics and human-machineinteractivity with high properties.Afully interconnected and intelligent living environment has been a grand challenge forfuture smart society and it is critically essential to develop the interactive sensing andactuating Systems to bridge the human-machine interfaces. In this talk, Dr Junwen Zhongwill introduce various Sensors, actuators, and robots that are fabricated based onpiezoelectret and piezoelectric effects. Specifically the electrical properties of the materialsand the mechanical structures of the devices are designed and optimized, in order toimprove the output and durability of such flexible transducers. These flexible transducershave been Successfully demonstrated with potential applications in personal mobile-health，haptics feedback, and soft robotics, etc. These works not only offer new valuable insights，but also will open Up new perspectives to develop flexible electronics and human-machineinteractivity with high properties.\n"
     ]
    }
   ],
   "source": [
    "from textrank4zh import TextRank4Keyword, TextRank4Sentence\n",
    "\n",
    "text = ''\n",
    "tr4s = TextRank4Sentence()\n",
    "tr4s.analyze(text=text, lower=True, source = 'all_filters')\n",
    "\n",
    "print( '摘要：' )\n",
    "for item in tr4s.get_key_sentences(num=3):\n",
    "    print(item.sentence)"
   ]
  },
  {
   "cell_type": "code",
   "execution_count": null,
   "id": "d2f5b8a2",
   "metadata": {},
   "outputs": [],
   "source": []
  }
 ],
 "metadata": {
  "kernelspec": {
   "display_name": "Python 3 (ipykernel)",
   "language": "python",
   "name": "python3"
  },
  "language_info": {
   "codemirror_mode": {
    "name": "ipython",
    "version": 3
   },
   "file_extension": ".py",
   "mimetype": "text/x-python",
   "name": "python",
   "nbconvert_exporter": "python",
   "pygments_lexer": "ipython3",
   "version": "3.9.13"
  }
 },
 "nbformat": 4,
 "nbformat_minor": 5
}
