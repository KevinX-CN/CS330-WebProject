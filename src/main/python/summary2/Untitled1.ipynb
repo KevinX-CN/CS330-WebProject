{
 "cells": [
  {
   "cell_type": "code",
   "execution_count": 2,
   "id": "1066b017",
   "metadata": {},
   "outputs": [
    {
     "ename": "ModuleNotFoundError",
     "evalue": "No module named 'word_segment_viterbi'",
     "output_type": "error",
     "traceback": [
      "\u001b[1;31m---------------------------------------------------------------------------\u001b[0m",
      "\u001b[1;31mModuleNotFoundError\u001b[0m                       Traceback (most recent call last)",
      "\u001b[1;32m~\\AppData\\Local\\Temp\\ipykernel_12660\\535388417.py\u001b[0m in \u001b[0;36m<module>\u001b[1;34m\u001b[0m\n\u001b[0;32m      2\u001b[0m \u001b[1;32mimport\u001b[0m \u001b[0mpickle\u001b[0m\u001b[1;33m\u001b[0m\u001b[1;33m\u001b[0m\u001b[0m\n\u001b[0;32m      3\u001b[0m \u001b[1;32mimport\u001b[0m \u001b[0mnumpy\u001b[0m \u001b[1;32mas\u001b[0m \u001b[0mnp\u001b[0m\u001b[1;33m\u001b[0m\u001b[1;33m\u001b[0m\u001b[0m\n\u001b[1;32m----> 4\u001b[1;33m \u001b[1;32mfrom\u001b[0m \u001b[0mword_segment_viterbi\u001b[0m \u001b[1;32mimport\u001b[0m \u001b[0mViterbiSegment\u001b[0m\u001b[1;33m\u001b[0m\u001b[1;33m\u001b[0m\u001b[0m\n\u001b[0m\u001b[0;32m      5\u001b[0m \u001b[1;32mclass\u001b[0m \u001b[0mExtractiveSummary\u001b[0m\u001b[1;33m(\u001b[0m\u001b[1;33m)\u001b[0m\u001b[1;33m:\u001b[0m\u001b[1;33m\u001b[0m\u001b[1;33m\u001b[0m\u001b[0m\n\u001b[0;32m      6\u001b[0m \u001b[1;33m\u001b[0m\u001b[0m\n",
      "\u001b[1;31mModuleNotFoundError\u001b[0m: No module named 'word_segment_viterbi'"
     ]
    }
   ],
   "source": [
    "\n",
    "#基于TF-IDF来做抽取式摘要\n",
    "import pickle\n",
    "import numpy as np\n",
    "from word_segment_viterbi import ViterbiSegment\n",
    "class ExtractiveSummary():\n",
    "    \n",
    "    def __init__(self, mode='work'):\n",
    "        if mode==\"train\":\n",
    "            self.IDF = None\n",
    "        else:\n",
    "            self.IDF = pickle.load(open(\"IDF_model.pkl\", 'rb'))\n",
    "    \n",
    "    #加载人民日报语料https://pan.baidu.com/s/1gd6mslt,形成每个句子的词语列表，用于后面统计词语频数\n",
    "    def load_corpus(self,  default_corpus_size = None):\n",
    "        documents = []\n",
    "        words_in_doc = []\n",
    "        with open('../../data/词性标注@人民日报199801.txt', 'r', encoding='utf8') as f:\n",
    "            lines = f.readlines()\n",
    "            if default_corpus_size!=None: lines = lines[:default_corpus_size]#测试阶段截取较小的语料\n",
    "            print(\"文档总行数是\", len(lines))\n",
    "            for line in lines:\n",
    "                \n",
    "                line = line.replace('\\n', '').split(\"  \")[1:]\n",
    "                words = list(map(lambda x: x.split('/')[0], line))\n",
    "                words = list(filter(lambda x: len(x)>0, words))\n",
    "                words_in_doc += words\n",
    "                if len(words)==0:#原始语料用空行来将文档分隔开\n",
    "                    documents.append(words_in_doc)\n",
    "                    words_in_doc = []\n",
    "        return documents\n",
    "    \n",
    "    def train(self):\n",
    "        self.IDF = {}\n",
    "        document_freq = {}#词语的文档频率，即包含特定词语的文档个数\n",
    "        documents = self.load_corpus(default_corpus_size=None)\n",
    "        for doc in documents:\n",
    "            for word in set(doc):\n",
    "                document_freq[word] = document_freq.get(word, 0) + 1\n",
    "        \n",
    "        corpus_size = len(documents)\n",
    "        for word in document_freq:\n",
    "            self.IDF[word] = np.log(corpus_size/(document_freq[word] + 1))\n",
    "        pickle.dump(self.IDF, open(\"IDF_model.pkl\", 'wb'))\n",
    "    \n",
    "    def summary(self, text):\n",
    "        sentences = text.split(\"。\")#将文本切分为句子。\n",
    "        new_sentences = []\n",
    "        sentence_score = {}\n",
    "        words_in_sentences = []\n",
    "        segmentor = ViterbiSegment(mode='work')#一个demo分词器，训练语料与IDF的训练语料相同(分词粒度统一)。\n",
    "        word_weight = {}#存储本文档中各个词语的term freq\n",
    "        print(\"计算次词语权重\")\n",
    "        for sentence in sentences:\n",
    "            if len(sentence)>100 or len(sentence)<2: continue\n",
    "            words = segmentor.segment(sentence)#对句子分词，得到词语list\n",
    "            for word in words:\n",
    "                word_weight[word] = word_weight.get(word, 0) + 1\n",
    "            words_in_sentences.append(words)\n",
    "            new_sentences.append(sentence)\n",
    "        print(\"计算句子权重\", word_weight)\n",
    "        for i in range(len(new_sentences)):\n",
    "            sentence_score[new_sentences[i]] = np.sum([word_weight[word]*self.IDF.get(word, 0.01) for word in words_in_sentences[i]])\n",
    "        print(\"对句子排序\")\n",
    "        sentence_sorted = sorted(sentence_score.items(), key=lambda x: x[1], reverse=True)[:2]\n",
    "        summary = \"。\".join(map(lambda x: x[0], sentence_sorted))\n",
    "        return summary\n",
    "\n",
    "if __name__ == '__main__':\n",
    "    S = ExtractiveSummary(mode=\"work\")\n",
    "#     S.train()\n",
    "    text = \"\"\"在认真听取大家发言后，李鹏宇做了总结。\n",
    "    他表示，今年是新中国成立70周年，也是全面建成小康社会、实现第一个百年奋斗目标的关键之年。\n",
    "    今年以来，面对纷繁复杂的国际国内形势，我们要好好学习。\n",
    "    贯彻新发展理念，统筹推进稳增长、促改革、调结构、惠民生、防风险、保稳定各项工作。经济运行总体平稳、稳中有进，经济高质量发展取得新的进展。\"\"\"\n",
    "    S.summary(text)"
   ]
  },
  {
   "cell_type": "code",
   "execution_count": null,
   "id": "d7150433",
   "metadata": {},
   "outputs": [],
   "source": []
  },
  {
   "cell_type": "code",
   "execution_count": null,
   "id": "593ee67c",
   "metadata": {},
   "outputs": [],
   "source": []
  }
 ],
 "metadata": {
  "kernelspec": {
   "display_name": "Python 3 (ipykernel)",
   "language": "python",
   "name": "python3"
  },
  "language_info": {
   "codemirror_mode": {
    "name": "ipython",
    "version": 3
   },
   "file_extension": ".py",
   "mimetype": "text/x-python",
   "name": "python",
   "nbconvert_exporter": "python",
   "pygments_lexer": "ipython3",
   "version": "3.9.13"
  }
 },
 "nbformat": 4,
 "nbformat_minor": 5
}
